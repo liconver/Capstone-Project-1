{
 "cells": [
  {
   "cell_type": "code",
   "execution_count": null,
   "metadata": {},
   "outputs": [],
   "source": [
    "import numpy as np\n",
    "import pandas as pd\n",
    "import matplotlib.pyplot as plt"
   ]
  },
  {
   "cell_type": "code",
   "execution_count": null,
   "metadata": {},
   "outputs": [],
   "source": [
    "members = pd.read_csv(r'C:\\Users\\liamc\\OneDrive\\Desktop\\Data Science\\KKbox\\members_v3.csv')\n",
    "members =members.loc[(members['bd']>2) & (members['bd']<99)]\n",
    "train = pd.read_csv(r'C:\\Users\\liamc\\OneDrive\\Desktop\\Data Science\\KKbox\\train.csv')\n",
    "df = pd.merge(members,train,how='inner',on=['msno'])\n",
    "df = df.iloc[0:10000]\n",
    "msnos = df['msno']"
   ]
  },
  {
   "cell_type": "code",
   "execution_count": null,
   "metadata": {},
   "outputs": [],
   "source": [
    "transactions = pd.read_csv(r'C:\\Users\\liamc\\OneDrive\\Desktop\\Data Science\\KKbox\\transactions.csv')\n",
    "transactions['transaction_date'] = pd.to_datetime(transactions['transaction_date'],format='%Y%m%d')\n",
    "relevant_transactions = transactions.loc[transactions['msno'].isin(msnos)]\n",
    "relevant_transactions.to_csv('relevant_transactions.csv',index=False)"
   ]
  },
  {
   "cell_type": "code",
   "execution_count": null,
   "metadata": {},
   "outputs": [],
   "source": [
    "user_logs= pd.read_csv(r'C:\\Users\\liamc\\OneDrive\\Desktop\\Data Science\\KKbox\\user_logs.csv',nrows=20000000)\n",
    "relevant_user_logs = user_logs.loc[user_logs['msno'].isin(msnos)]\n",
    "relevant_user_logs.to_csv('relevant_user_logs.csv',index=False)"
   ]
  }
 ],
 "metadata": {
  "kernelspec": {
   "display_name": "Python 3",
   "language": "python",
   "name": "python3"
  },
  "language_info": {
   "codemirror_mode": {
    "name": "ipython",
    "version": 3
   },
   "file_extension": ".py",
   "mimetype": "text/x-python",
   "name": "python",
   "nbconvert_exporter": "python",
   "pygments_lexer": "ipython3",
   "version": "3.6.4"
  }
 },
 "nbformat": 4,
 "nbformat_minor": 2
}
