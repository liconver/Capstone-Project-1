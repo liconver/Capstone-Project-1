{
 "cells": [
  {
   "cell_type": "code",
   "execution_count": 1,
   "metadata": {},
   "outputs": [],
   "source": [
    "#libraries\n",
    "import numpy as np\n",
    "import pandas as pd\n",
    "import matplotlib.pyplot as plt\n",
    "import datetime\n",
    "from sklearn.linear_model import LogisticRegression\n",
    "from sklearn.model_selection import train_test_split, cross_val_score, GridSearchCV\n",
    "from sklearn.metrics import confusion_matrix, classification_report, roc_curve, roc_auc_score, log_loss\n",
    "from statsmodels.stats.outliers_influence import variance_inflation_factor\n",
    "#import dask.dataframe as dd"
   ]
  },
  {
   "cell_type": "code",
   "execution_count": 2,
   "metadata": {},
   "outputs": [],
   "source": [
    "#read in members and train datafiles\n",
    "members = pd.read_csv(r'E:\\KKbox\\members_v3.csv')\n",
    "train = pd.read_csv(r'E:\\KKbox\\train_v2.csv')\n",
    "#create training dataframe \n",
    "train = train.merge(members,how='left',on=['msno'])"
   ]
  },
  {
   "cell_type": "code",
   "execution_count": 3,
   "metadata": {},
   "outputs": [],
   "source": [
    "# read in first 50 million rows of user logs file\n",
    "user_logs = pd.read_csv(r'E:\\KKbox\\user_logs_v2.csv')\n",
    "user_logs= pd.concat((user_logs,pd.read_csv(r'E:\\KKbox\\user_logs.csv',nrows=50000000)), axis=0, ignore_index=True).reset_index(drop=True)\n",
    "user_logs['date'] = pd.to_datetime(user_logs['date'],format='%Y%m%d')\n",
    "#select only logs for users that are in df\n",
    "msnos = train['msno']\n",
    "relevant_user_logs = user_logs.loc[user_logs['msno'].isin(msnos)]\n",
    "user_logs = pd.DataFrame(index=[],columns=[])"
   ]
  },
  {
   "cell_type": "code",
   "execution_count": 4,
   "metadata": {},
   "outputs": [],
   "source": [
    "#select only logs for the last two months before the churn window, which for the train set is March 2017\n",
    "LastTwoMonthslogs = relevant_user_logs.loc[(relevant_user_logs['date']<'2017-03-01') & (relevant_user_logs['date']>'2016-12-31')]\n",
    "relevant_user_logs = pd.DataFrame(index=[],columns=[])"
   ]
  },
  {
   "cell_type": "code",
   "execution_count": 5,
   "metadata": {},
   "outputs": [],
   "source": [
    "#aggregate the logs by mean so you can have one row of log info per user\n",
    "mean_user_logs = pd.DataFrame(index=[],columns=[])\n",
    "mean_user_logs['num_25'] = LastTwoMonthslogs.groupby('msno')['num_25'].mean()\n",
    "mean_user_logs['num_50'] = LastTwoMonthslogs.groupby('msno')['num_50'].mean()\n",
    "mean_user_logs['num_75'] = LastTwoMonthslogs.groupby('msno')['num_75'].mean()\n",
    "mean_user_logs['num_985'] = LastTwoMonthslogs.groupby('msno')['num_50'].mean()\n",
    "mean_user_logs['num_100'] = LastTwoMonthslogs.groupby('msno')['num_100'].mean()\n",
    "mean_user_logs['num_unq'] = LastTwoMonthslogs.groupby('msno')['num_unq'].mean()\n",
    "mean_user_logs['total_secs'] = LastTwoMonthslogs.groupby('msno')['total_secs'].mean()\n",
    "mean_user_logs['days_logged'] = LastTwoMonthslogs.groupby('msno')['date'].count()"
   ]
  },
  {
   "cell_type": "code",
   "execution_count": 6,
   "metadata": {},
   "outputs": [],
   "source": [
    "#merge the mean log data into the dataframe\n",
    "mean_user_logs = mean_user_logs.reset_index()\n",
    "train = train.merge(mean_user_logs,how='left',on='msno')"
   ]
  },
  {
   "cell_type": "code",
   "execution_count": 7,
   "metadata": {},
   "outputs": [],
   "source": [
    "#read in transactions data, manipulate it to create feature for number of transactions, then clear memory and add data of the \n",
    "#most recent transaction to the training dataframe\n",
    "transactions = pd.read_csv(r'E:\\KKbox\\transactions.csv', usecols=['msno'])\n",
    "transactions = pd.concat((transactions, pd.read_csv(r'E:\\KKbox\\transactions_v2.csv', usecols=['msno'])), axis=0, ignore_index=True).reset_index(drop=True)\n",
    "transactions = pd.DataFrame(transactions['msno'].value_counts().reset_index())\n",
    "transactions.columns = ['msno','num_transactions']\n",
    "train = pd.merge(train, transactions, how='left', on='msno')\n",
    "transactions = []\n",
    "transactions = pd.read_csv(r'E:\\KKbox\\transactions_v2.csv')\n",
    "transactions = transactions.sort_values(by=['transaction_date'], ascending=[False]).reset_index(drop=True)\n",
    "transactions = transactions.drop_duplicates(subset=['msno'], keep='first')\n",
    "train = pd.merge(train, transactions, how='left', on='msno')\n",
    "transactions=[]"
   ]
  },
  {
   "cell_type": "code",
   "execution_count": 8,
   "metadata": {},
   "outputs": [],
   "source": [
    "train= train.fillna(0)"
   ]
  },
  {
   "cell_type": "code",
   "execution_count": 9,
   "metadata": {},
   "outputs": [],
   "source": [
    "#replace columns that have categorical data with dummy variables\n",
    "train = pd.get_dummies(train,columns=['city','registered_via','gender'])"
   ]
  },
  {
   "cell_type": "code",
   "execution_count": 10,
   "metadata": {},
   "outputs": [
    {
     "name": "stdout",
     "output_type": "stream",
     "text": [
      "87330\n",
      "(970960, 52)\n"
     ]
    }
   ],
   "source": [
    "#check how many churners are in the dataframe relative to the size of the dataframe\n",
    "print(train.is_churn.sum())\n",
    "print(train.shape)"
   ]
  },
  {
   "cell_type": "code",
   "execution_count": 11,
   "metadata": {},
   "outputs": [
    {
     "data": {
      "text/plain": [
       "970960"
      ]
     },
     "execution_count": 11,
     "metadata": {},
     "output_type": "execute_result"
    }
   ],
   "source": [
    "train.msno.nunique()"
   ]
  },
  {
   "cell_type": "code",
   "execution_count": null,
   "metadata": {},
   "outputs": [],
   "source": [
    "#can optionally subset the dataframe into churners and nonchurners and reconstruct with a higher ratio of churners in order to \n",
    "#produce a 'better trained model'\n",
    "churners= train.loc[train['is_churn']==1]\n",
    "nonchurners= train.loc[train['is_churn']==0]\n",
    "nonchurners= nonchurners.sample(n=107000)\n",
    "morechurnersdf = pd.concat([churners,nonchurners])"
   ]
  },
  {
   "cell_type": "code",
   "execution_count": null,
   "metadata": {},
   "outputs": [],
   "source": [
    "#identify features and target variable for calculating VIF\n",
    "y = train['is_churn']\n",
    "X = train.drop(['is_churn','msno',],axis=1)"
   ]
  },
  {
   "cell_type": "code",
   "execution_count": null,
   "metadata": {},
   "outputs": [],
   "source": [
    "#display vif of all features\n",
    "vif = pd.DataFrame()\n",
    "vif[\"VIF Factor\"] = [variance_inflation_factor(X.values, i) for i in range(X.shape[1])]\n",
    "vif[\"features\"] = X.columns\n",
    "vif"
   ]
  },
  {
   "cell_type": "code",
   "execution_count": 13,
   "metadata": {},
   "outputs": [
    {
     "data": {
      "text/plain": [
       "Index(['msno', 'is_churn', 'bd', 'registration_init_time', 'num_25', 'num_50',\n",
       "       'num_75', 'num_985', 'num_100', 'num_unq', 'total_secs', 'days_logged',\n",
       "       'num_transactions', 'payment_method_id', 'payment_plan_days',\n",
       "       'plan_list_price', 'actual_amount_paid', 'is_auto_renew',\n",
       "       'transaction_date', 'membership_expire_date', 'is_cancel', 'city_0.0',\n",
       "       'city_1.0', 'city_3.0', 'city_4.0', 'city_5.0', 'city_6.0', 'city_7.0',\n",
       "       'city_8.0', 'city_9.0', 'city_10.0', 'city_11.0', 'city_12.0',\n",
       "       'city_13.0', 'city_14.0', 'city_15.0', 'city_16.0', 'city_17.0',\n",
       "       'city_18.0', 'city_19.0', 'city_20.0', 'city_21.0', 'city_22.0',\n",
       "       'registered_via_0.0', 'registered_via_3.0', 'registered_via_4.0',\n",
       "       'registered_via_7.0', 'registered_via_9.0', 'registered_via_13.0',\n",
       "       'gender_0', 'gender_female', 'gender_male'],\n",
       "      dtype='object')"
      ]
     },
     "execution_count": 13,
     "metadata": {},
     "output_type": "execute_result"
    }
   ],
   "source": [
    "train.columns"
   ]
  },
  {
   "cell_type": "code",
   "execution_count": 12,
   "metadata": {},
   "outputs": [],
   "source": [
    "#select features and target variable for model.  Can change to eliminate high VIF features\n",
    "y = train['is_churn']\n",
    "#X = train.drop(['is_churn','msno',],axis=1)\n",
    "#X = train.drop(['is_churn','msno','num_100','total_secs'],axis=1)\n",
    "#X = train.drop(['is_churn','msno','total_secs'],axis=1)\n",
    "X= train[['is_auto_renew','is_cancel','registered_via_0.0', 'registered_via_3.0', 'registered_via_4.0','registered_via_7.0', \n",
    "          'registered_via_9.0', 'registered_via_13.0',\n",
    "       'gender_0', 'gender_female', 'gender_male']]"
   ]
  },
  {
   "cell_type": "code",
   "execution_count": 13,
   "metadata": {},
   "outputs": [],
   "source": [
    "#split into train and test sets and initialize classifier\n",
    "X_train, X_test, y_train, y_test = train_test_split(X,y,test_size=.2,random_state=21)"
   ]
  },
  {
   "cell_type": "code",
   "execution_count": 14,
   "metadata": {},
   "outputs": [
    {
     "data": {
      "text/plain": [
       "LogisticRegression(C=1.0, class_weight=None, dual=False, fit_intercept=True,\n",
       "          intercept_scaling=1, max_iter=100, multi_class='ovr', n_jobs=1,\n",
       "          penalty='l2', random_state=None, solver='liblinear', tol=0.0001,\n",
       "          verbose=0, warm_start=False)"
      ]
     },
     "execution_count": 14,
     "metadata": {},
     "output_type": "execute_result"
    }
   ],
   "source": [
    "#train\n",
    "logreg = LogisticRegression()\n",
    "logreg.fit(X_train,y_train)"
   ]
  },
  {
   "cell_type": "code",
   "execution_count": 15,
   "metadata": {},
   "outputs": [],
   "source": [
    "#make predictions on test set\n",
    "y_pred = logreg.predict(X_test)"
   ]
  },
  {
   "cell_type": "code",
   "execution_count": 16,
   "metadata": {},
   "outputs": [
    {
     "name": "stdout",
     "output_type": "stream",
     "text": [
      "[[173671   3043]\n",
      " [ 10788   6690]]\n",
      "             precision    recall  f1-score   support\n",
      "\n",
      "          0       0.94      0.98      0.96    176714\n",
      "          1       0.69      0.38      0.49     17478\n",
      "\n",
      "avg / total       0.92      0.93      0.92    194192\n",
      "\n"
     ]
    }
   ],
   "source": [
    "#check confusion matrix and classification report\n",
    "print(confusion_matrix(y_test, y_pred))\n",
    "print(classification_report(y_test, y_pred))"
   ]
  },
  {
   "cell_type": "code",
   "execution_count": 17,
   "metadata": {},
   "outputs": [
    {
     "data": {
      "image/png": "[encoded data removed]",
      "text/plain": [
       "<matplotlib.figure.Figure at 0x1799d80b898>"
      ]
     },
     "metadata": {},
     "output_type": "display_data"
    },
    {
     "name": "stdout",
     "output_type": "stream",
     "text": [
      "AUC: 0.8817120310353784\n",
      "AUC scores computed using 5-fold cross-validation: [0.88195963 0.8815661  0.88535019 0.8870376  0.8827111 ]\n"
     ]
    }
   ],
   "source": [
    "#Check ROC curve, AUC score, and 5 fold cv AUC\n",
    "y_pred_prob = logreg.predict_proba(X_test)[:,1]\n",
    "fpr, tpr, thresholds = roc_curve(y_test, y_pred_prob)\n",
    "plt.plot([0, 1], [0, 1], 'k--')\n",
    "plt.plot(fpr, tpr)\n",
    "plt.xlabel('False Positive Rate')\n",
    "plt.ylabel('True Positive Rate')\n",
    "plt.title('ROC Curve')\n",
    "plt.show()\n",
    "print(\"AUC: {}\".format(roc_auc_score(y_test, y_pred_prob)))\n",
    "cv_auc = cross_val_score(logreg,X,y,cv=5,scoring='roc_auc')\n",
    "print(\"AUC scores computed using 5-fold cross-validation: {}\".format(cv_auc))"
   ]
  },
  {
   "cell_type": "code",
   "execution_count": 18,
   "metadata": {},
   "outputs": [
    {
     "data": {
      "text/plain": [
       "0.1738358467535548"
      ]
     },
     "execution_count": 18,
     "metadata": {},
     "output_type": "execute_result"
    }
   ],
   "source": [
    "#check log loss\n",
    "log_loss(y_test,y_pred_prob)"
   ]
  },
  {
   "cell_type": "code",
   "execution_count": 19,
   "metadata": {},
   "outputs": [
    {
     "data": {
      "text/html": [
       "<div>\n",
       "<style scoped>\n",
       "    .dataframe tbody tr th:only-of-type {\n",
       "        vertical-align: middle;\n",
       "    }\n",
       "\n",
       "    .dataframe tbody tr th {\n",
       "        vertical-align: top;\n",
       "    }\n",
       "\n",
       "    .dataframe thead th {\n",
       "        text-align: right;\n",
       "    }\n",
       "</style>\n",
       "<table border=\"1\" class=\"dataframe\">\n",
       "  <thead>\n",
       "    <tr style=\"text-align: right;\">\n",
       "      <th></th>\n",
       "      <th>features</th>\n",
       "      <th>model_coefficients</th>\n",
       "    </tr>\n",
       "  </thead>\n",
       "  <tbody>\n",
       "    <tr>\n",
       "      <th>0</th>\n",
       "      <td>is_auto_renew</td>\n",
       "      <td>-4.052154</td>\n",
       "    </tr>\n",
       "    <tr>\n",
       "      <th>1</th>\n",
       "      <td>is_cancel</td>\n",
       "      <td>5.375505</td>\n",
       "    </tr>\n",
       "    <tr>\n",
       "      <th>2</th>\n",
       "      <td>registered_via_0.0</td>\n",
       "      <td>0.317831</td>\n",
       "    </tr>\n",
       "    <tr>\n",
       "      <th>3</th>\n",
       "      <td>registered_via_3.0</td>\n",
       "      <td>-0.394750</td>\n",
       "    </tr>\n",
       "    <tr>\n",
       "      <th>4</th>\n",
       "      <td>registered_via_4.0</td>\n",
       "      <td>-0.274589</td>\n",
       "    </tr>\n",
       "    <tr>\n",
       "      <th>5</th>\n",
       "      <td>registered_via_7.0</td>\n",
       "      <td>0.210269</td>\n",
       "    </tr>\n",
       "    <tr>\n",
       "      <th>6</th>\n",
       "      <td>registered_via_9.0</td>\n",
       "      <td>-0.119956</td>\n",
       "    </tr>\n",
       "    <tr>\n",
       "      <th>7</th>\n",
       "      <td>registered_via_13.0</td>\n",
       "      <td>0.286762</td>\n",
       "    </tr>\n",
       "    <tr>\n",
       "      <th>8</th>\n",
       "      <td>gender_0</td>\n",
       "      <td>-0.219702</td>\n",
       "    </tr>\n",
       "    <tr>\n",
       "      <th>9</th>\n",
       "      <td>gender_female</td>\n",
       "      <td>0.151013</td>\n",
       "    </tr>\n",
       "    <tr>\n",
       "      <th>10</th>\n",
       "      <td>gender_male</td>\n",
       "      <td>0.094256</td>\n",
       "    </tr>\n",
       "  </tbody>\n",
       "</table>\n",
       "</div>"
      ],
      "text/plain": [
       "               features  model_coefficients\n",
       "0         is_auto_renew           -4.052154\n",
       "1             is_cancel            5.375505\n",
       "2    registered_via_0.0            0.317831\n",
       "3    registered_via_3.0           -0.394750\n",
       "4    registered_via_4.0           -0.274589\n",
       "5    registered_via_7.0            0.210269\n",
       "6    registered_via_9.0           -0.119956\n",
       "7   registered_via_13.0            0.286762\n",
       "8              gender_0           -0.219702\n",
       "9         gender_female            0.151013\n",
       "10          gender_male            0.094256"
      ]
     },
     "execution_count": 19,
     "metadata": {},
     "output_type": "execute_result"
    }
   ],
   "source": [
    "#model coefficients\n",
    "Coefficients = pd.DataFrame()\n",
    "Coefficients['features'] = X.columns\n",
    "Coefficients['model_coefficients'] = np.transpose(logreg.coef_)\n",
    "Coefficients"
   ]
  },
  {
   "cell_type": "code",
   "execution_count": 20,
   "metadata": {},
   "outputs": [
    {
     "data": {
      "text/plain": [
       "<matplotlib.axes._subplots.AxesSubplot at 0x1799d7f93c8>"
      ]
     },
     "execution_count": 20,
     "metadata": {},
     "output_type": "execute_result"
    },
    {
     "data": {
      "image/png": "[encoded data removed]",
      "text/plain": [
       "<matplotlib.figure.Figure at 0x179af032080>"
      ]
     },
     "metadata": {},
     "output_type": "display_data"
    }
   ],
   "source": [
    "Coefficients.plot(kind='bar',figsize=(10,5))"
   ]
  },
  {
   "cell_type": "code",
   "execution_count": 21,
   "metadata": {},
   "outputs": [],
   "source": [
    "train = []\n",
    "sample_submission = pd.read_csv(r'E:\\KKbox\\sample_submission_v2.csv')\n",
    "test = sample_submission.merge(members,how='left',on=['msno'])"
   ]
  },
  {
   "cell_type": "code",
   "execution_count": 22,
   "metadata": {},
   "outputs": [],
   "source": [
    "# read in first 50 million rows of user logs file\n",
    "user_logs = pd.read_csv(r'E:\\KKbox\\user_logs_v2.csv')\n",
    "user_logs= pd.concat((user_logs,pd.read_csv(r'E:\\KKbox\\user_logs.csv',nrows=50000000)), axis=0, ignore_index=True).reset_index(drop=True)\n",
    "user_logs['date'] = pd.to_datetime(user_logs['date'],format='%Y%m%d')\n",
    "#select only logs for users that are in df\n",
    "msnos = test['msno']\n",
    "relevant_user_logs = user_logs.loc[user_logs['msno'].isin(msnos)]\n",
    "user_logs = pd.DataFrame(index=[],columns=[])"
   ]
  },
  {
   "cell_type": "code",
   "execution_count": 23,
   "metadata": {},
   "outputs": [],
   "source": [
    "#The provided test set are for users churning in the next month after the train set\n",
    "LastTwoMonthslogs = relevant_user_logs.loc[(relevant_user_logs['date']<'2017-04-01') & (relevant_user_logs['date']>'2017-01-31')]\n",
    "relevant_user_logs = pd.DataFrame(index=[],columns=[])"
   ]
  },
  {
   "cell_type": "code",
   "execution_count": 24,
   "metadata": {},
   "outputs": [],
   "source": [
    "mean_user_logs = pd.DataFrame(index=[],columns=[])\n",
    "mean_user_logs['num_25'] = LastTwoMonthslogs.groupby('msno')['num_25'].mean()\n",
    "mean_user_logs['num_50'] = LastTwoMonthslogs.groupby('msno')['num_50'].mean()\n",
    "mean_user_logs['num_75'] = LastTwoMonthslogs.groupby('msno')['num_75'].mean()\n",
    "mean_user_logs['num_985'] = LastTwoMonthslogs.groupby('msno')['num_50'].mean()\n",
    "mean_user_logs['num_100'] = LastTwoMonthslogs.groupby('msno')['num_100'].mean()\n",
    "mean_user_logs['num_unq'] = LastTwoMonthslogs.groupby('msno')['num_unq'].mean()\n",
    "mean_user_logs['total_secs'] = LastTwoMonthslogs.groupby('msno')['total_secs'].mean()\n",
    "mean_user_logs['days_logged'] = LastTwoMonthslogs.groupby('msno')['date'].count()"
   ]
  },
  {
   "cell_type": "code",
   "execution_count": 25,
   "metadata": {},
   "outputs": [],
   "source": [
    "mean_user_logs = mean_user_logs.reset_index()\n",
    "test = test.merge(mean_user_logs,how='left',on='msno')"
   ]
  },
  {
   "cell_type": "code",
   "execution_count": 26,
   "metadata": {},
   "outputs": [],
   "source": [
    "transactions = pd.read_csv(r'E:\\KKbox\\transactions.csv', usecols=['msno'])\n",
    "transactions = pd.concat((transactions, pd.read_csv(r'E:\\KKbox\\transactions_v2.csv', usecols=['msno'])), axis=0, ignore_index=True).reset_index(drop=True)\n",
    "transactions = pd.DataFrame(transactions['msno'].value_counts().reset_index())\n",
    "transactions.columns = ['msno','num_transactions']\n",
    "test = pd.merge(test, transactions, how='left', on='msno')\n",
    "transactions = []\n",
    "transactions = pd.read_csv(r'E:\\KKbox\\transactions_v2.csv')\n",
    "transactions = transactions.sort_values(by=['transaction_date'], ascending=[False]).reset_index(drop=True)\n",
    "transactions = transactions.drop_duplicates(subset=['msno'], keep='first')\n",
    "test = pd.merge(test, transactions, how='left', on='msno')\n",
    "transactions=[]"
   ]
  },
  {
   "cell_type": "code",
   "execution_count": 27,
   "metadata": {},
   "outputs": [],
   "source": [
    "test= test.fillna(0)"
   ]
  },
  {
   "cell_type": "code",
   "execution_count": 28,
   "metadata": {},
   "outputs": [
    {
     "name": "stdout",
     "output_type": "stream",
     "text": [
      "0\n",
      "(907471, 52)\n"
     ]
    }
   ],
   "source": [
    "test = pd.get_dummies(test,columns=['city','registered_via','gender'])\n",
    "print(test.is_churn.sum())\n",
    "print(test.shape)"
   ]
  },
  {
   "cell_type": "code",
   "execution_count": 29,
   "metadata": {},
   "outputs": [],
   "source": [
    "Xsubmission = test[['is_auto_renew','is_cancel','registered_via_0.0', 'registered_via_3.0', 'registered_via_4.0','registered_via_7.0', \n",
    "          'registered_via_9.0', 'registered_via_13.0',\n",
    "       'gender_0', 'gender_female', 'gender_male']]\n",
    "ysubmissionprob =logreg.predict_proba(Xsubmission)[:,1]"
   ]
  },
  {
   "cell_type": "code",
   "execution_count": 30,
   "metadata": {},
   "outputs": [],
   "source": [
    "sample_submission['is_churn'] = ysubmissionprob"
   ]
  },
  {
   "cell_type": "code",
   "execution_count": 31,
   "metadata": {},
   "outputs": [
    {
     "data": {
      "text/html": [
       "<div>\n",
       "<style scoped>\n",
       "    .dataframe tbody tr th:only-of-type {\n",
       "        vertical-align: middle;\n",
       "    }\n",
       "\n",
       "    .dataframe tbody tr th {\n",
       "        vertical-align: top;\n",
       "    }\n",
       "\n",
       "    .dataframe thead th {\n",
       "        text-align: right;\n",
       "    }\n",
       "</style>\n",
       "<table border=\"1\" class=\"dataframe\">\n",
       "  <thead>\n",
       "    <tr style=\"text-align: right;\">\n",
       "      <th></th>\n",
       "      <th>msno</th>\n",
       "      <th>is_churn</th>\n",
       "    </tr>\n",
       "  </thead>\n",
       "  <tbody>\n",
       "    <tr>\n",
       "      <th>0</th>\n",
       "      <td>4n+fXlyJvfQnTeKXTWT507Ll4JVYGrOC8LHCfwBmPE4=</td>\n",
       "      <td>0.017361</td>\n",
       "    </tr>\n",
       "    <tr>\n",
       "      <th>1</th>\n",
       "      <td>aNmbC1GvFUxQyQUidCVmfbQ0YeCuwkPzEdQ0RwWyeZM=</td>\n",
       "      <td>0.017086</td>\n",
       "    </tr>\n",
       "    <tr>\n",
       "      <th>2</th>\n",
       "      <td>rFC9eSG/tMuzpre6cwcMLZHEYM89xY02qcz7HL4//jc=</td>\n",
       "      <td>0.023613</td>\n",
       "    </tr>\n",
       "    <tr>\n",
       "      <th>3</th>\n",
       "      <td>WZ59dLyrQcE7ft06MZ5dj40BnlYQY7PHgg/54+HaCSE=</td>\n",
       "      <td>0.019294</td>\n",
       "    </tr>\n",
       "    <tr>\n",
       "      <th>4</th>\n",
       "      <td>aky/Iv8hMp1/V/yQHLtaVuEmmAxkB5GuasQZePJ7NU4=</td>\n",
       "      <td>0.018715</td>\n",
       "    </tr>\n",
       "    <tr>\n",
       "      <th>5</th>\n",
       "      <td>nu1jZ/flvSaXRg0U9Es+xmo2KlAXq/q+mhcWFStwm9w=</td>\n",
       "      <td>0.384918</td>\n",
       "    </tr>\n",
       "    <tr>\n",
       "      <th>6</th>\n",
       "      <td>biDTtgK83fEWXJDaxzD1eh22dion/h3odeIbS7qJMmY=</td>\n",
       "      <td>0.013034</td>\n",
       "    </tr>\n",
       "    <tr>\n",
       "      <th>7</th>\n",
       "      <td>k/8uwi/iM9LZmRAIWXLqpZY6ENomXAscwsQsh6PxcTw=</td>\n",
       "      <td>0.019294</td>\n",
       "    </tr>\n",
       "    <tr>\n",
       "      <th>8</th>\n",
       "      <td>18rQ/746SjA6nBx325UsyhfsDhu4tK01FXFxHWZjw20=</td>\n",
       "      <td>0.017086</td>\n",
       "    </tr>\n",
       "    <tr>\n",
       "      <th>9</th>\n",
       "      <td>2V13OCoWx6vqKr/ZzNmKFrmnC2FtR4SWMz5C5Hi02PY=</td>\n",
       "      <td>0.014674</td>\n",
       "    </tr>\n",
       "    <tr>\n",
       "      <th>10</th>\n",
       "      <td>1l/ZwduFxS/q/hZeyssAYH27espkp8Yw6uAnUxfEbTI=</td>\n",
       "      <td>0.017361</td>\n",
       "    </tr>\n",
       "    <tr>\n",
       "      <th>11</th>\n",
       "      <td>azfnO16ZeQsbJF6LcqkQhbA3NWiqHYWqaq7AFjsJVaQ=</td>\n",
       "      <td>0.019294</td>\n",
       "    </tr>\n",
       "    <tr>\n",
       "      <th>12</th>\n",
       "      <td>RPOzeEr8mSbhj6wrF29+7KciuiNrj7IvkzxJ9rgCTks=</td>\n",
       "      <td>0.018065</td>\n",
       "    </tr>\n",
       "    <tr>\n",
       "      <th>13</th>\n",
       "      <td>NAzfjSM2EOyFhV4rIm/RO9pXCbyti6scBfcmV/t+CaU=</td>\n",
       "      <td>0.023613</td>\n",
       "    </tr>\n",
       "    <tr>\n",
       "      <th>14</th>\n",
       "      <td>1DCd06ON0rWFHI1bNrY1l/hPW9d80fmmrmroHqpGvNA=</td>\n",
       "      <td>0.017361</td>\n",
       "    </tr>\n",
       "    <tr>\n",
       "      <th>15</th>\n",
       "      <td>D9QAV8ZNF8qU96dTBLMzO0sguzlmAIBf4302l0W6jj0=</td>\n",
       "      <td>0.017361</td>\n",
       "    </tr>\n",
       "    <tr>\n",
       "      <th>16</th>\n",
       "      <td>5HKzLDUVVbIxWMH9aH67ALAGVPvorE4NvmO5xqO7SMk=</td>\n",
       "      <td>0.013785</td>\n",
       "    </tr>\n",
       "    <tr>\n",
       "      <th>17</th>\n",
       "      <td>XwnlNj6nq2MMHe0KoyRRM4ih+RAwj5idHvlS4pTMTbg=</td>\n",
       "      <td>0.017361</td>\n",
       "    </tr>\n",
       "    <tr>\n",
       "      <th>18</th>\n",
       "      <td>lNmNPLZZiMwVbRFdBmDYmRdEgo8TWN2Y3m+z5XVl4aQ=</td>\n",
       "      <td>0.019294</td>\n",
       "    </tr>\n",
       "    <tr>\n",
       "      <th>19</th>\n",
       "      <td>5NlNga4bsKiYyj3B3I/SihUQH4wb2suNWBcxQMd9oJ8=</td>\n",
       "      <td>0.017361</td>\n",
       "    </tr>\n",
       "    <tr>\n",
       "      <th>20</th>\n",
       "      <td>eXWvD4/UBTi6mA9GMYTpY7/buu5xKCyXlu7hFM+ELHU=</td>\n",
       "      <td>0.017361</td>\n",
       "    </tr>\n",
       "    <tr>\n",
       "      <th>21</th>\n",
       "      <td>Y1V2qDdKt+5CHqFSvpm82QkPJrwRxkbP5hs7DbtU+tA=</td>\n",
       "      <td>0.445673</td>\n",
       "    </tr>\n",
       "    <tr>\n",
       "      <th>22</th>\n",
       "      <td>sLyKNXQo6PGK/CE0a4cUQ9+lVd/oCERRMuCSgZ6KN4Y=</td>\n",
       "      <td>0.017361</td>\n",
       "    </tr>\n",
       "    <tr>\n",
       "      <th>23</th>\n",
       "      <td>2TaTUEET5XAOiHPC2qKnKUK2wSqbcbA9YwM4eHTeawE=</td>\n",
       "      <td>0.018065</td>\n",
       "    </tr>\n",
       "    <tr>\n",
       "      <th>24</th>\n",
       "      <td>Rrh9afbenme6MuAYudJRn41u9IrLpSi9aQ8p3I34RT0=</td>\n",
       "      <td>0.017361</td>\n",
       "    </tr>\n",
       "    <tr>\n",
       "      <th>25</th>\n",
       "      <td>5sjnJjeZd2roOarPgSYK6559VTIhEmeunzJAd2kcuhg=</td>\n",
       "      <td>0.023613</td>\n",
       "    </tr>\n",
       "    <tr>\n",
       "      <th>26</th>\n",
       "      <td>FsR4+VSNjAortRRTmx2q9K2q9HtSdQ69PE1FNKKqpKk=</td>\n",
       "      <td>0.017361</td>\n",
       "    </tr>\n",
       "    <tr>\n",
       "      <th>27</th>\n",
       "      <td>5LgzR73HtjaKDQzMcUrveEUcvWPCuwAZrizNdCAqRnU=</td>\n",
       "      <td>0.014674</td>\n",
       "    </tr>\n",
       "    <tr>\n",
       "      <th>28</th>\n",
       "      <td>3rgFPp+e+xMWuKAw8wgVB4EUYotVuaWYvGuEDyNo9fc=</td>\n",
       "      <td>0.017361</td>\n",
       "    </tr>\n",
       "    <tr>\n",
       "      <th>29</th>\n",
       "      <td>QOE4ibjDwKrJvCZze8fKh4yxk7sHEEbffUMTmkUSfhA=</td>\n",
       "      <td>0.017361</td>\n",
       "    </tr>\n",
       "    <tr>\n",
       "      <th>...</th>\n",
       "      <td>...</td>\n",
       "      <td>...</td>\n",
       "    </tr>\n",
       "    <tr>\n",
       "      <th>907441</th>\n",
       "      <td>gk8XM+TA0wIqideeOAfLpAGgmhYpRTJuD3lpx9lQlh4=</td>\n",
       "      <td>0.017361</td>\n",
       "    </tr>\n",
       "    <tr>\n",
       "      <th>907442</th>\n",
       "      <td>3TRqAUOAuYhIQz/kCISBEhZZOnsrjVuf+WH3QLUT2aw=</td>\n",
       "      <td>0.017086</td>\n",
       "    </tr>\n",
       "    <tr>\n",
       "      <th>907443</th>\n",
       "      <td>FbEuxI79/jc3bitQwvZ/y2+ewGd9LEiKQrlkQGLD6lk=</td>\n",
       "      <td>0.017361</td>\n",
       "    </tr>\n",
       "    <tr>\n",
       "      <th>907444</th>\n",
       "      <td>+lqMzJchsQDoQvkRDnM5VKPAtEPbcRrpyiIewdWlwEo=</td>\n",
       "      <td>0.017361</td>\n",
       "    </tr>\n",
       "    <tr>\n",
       "      <th>907445</th>\n",
       "      <td>3rlqpTjQ8e+q9axfQLKhRK0HmBoL2m+jvo0rm7+dbeU=</td>\n",
       "      <td>0.017361</td>\n",
       "    </tr>\n",
       "    <tr>\n",
       "      <th>907446</th>\n",
       "      <td>mK64Lapcbh0+hz+u5Jy27iDEQqDsSUjXh5Xw+oFE5kc=</td>\n",
       "      <td>0.017086</td>\n",
       "    </tr>\n",
       "    <tr>\n",
       "      <th>907447</th>\n",
       "      <td>oLe84AMU5+u8KFV+gpWAElh6P+RRjc5WfjgESTP93kk=</td>\n",
       "      <td>0.018065</td>\n",
       "    </tr>\n",
       "    <tr>\n",
       "      <th>907448</th>\n",
       "      <td>eEa3cws9RxHVr42QBanlfUYWIQKimUDeHZshYOmPFg4=</td>\n",
       "      <td>0.017361</td>\n",
       "    </tr>\n",
       "    <tr>\n",
       "      <th>907449</th>\n",
       "      <td>GLfSMzLvaotdTTyQ6VPNFCZvJMWBgn92ml+VzbF2caQ=</td>\n",
       "      <td>0.019294</td>\n",
       "    </tr>\n",
       "    <tr>\n",
       "      <th>907450</th>\n",
       "      <td>UugV5VEIkH/7Xi49DYa8FSGJg7tzfVrbY4YRnyPjiFg=</td>\n",
       "      <td>0.017361</td>\n",
       "    </tr>\n",
       "    <tr>\n",
       "      <th>907451</th>\n",
       "      <td>WqggMdsZdV3MpF7/bsgin1JjQ02d38Y+tGjGIKMPC9o=</td>\n",
       "      <td>0.017086</td>\n",
       "    </tr>\n",
       "    <tr>\n",
       "      <th>907452</th>\n",
       "      <td>xlmdLtmZa7LlVlAs9PrmNbAF4rx4gThNgYCYCXlhVRw=</td>\n",
       "      <td>0.017361</td>\n",
       "    </tr>\n",
       "    <tr>\n",
       "      <th>907453</th>\n",
       "      <td>wToeP3w2/VEGinU7ttBCrZYw/eur8lPat4fA7hN1M7g=</td>\n",
       "      <td>0.499967</td>\n",
       "    </tr>\n",
       "    <tr>\n",
       "      <th>907454</th>\n",
       "      <td>KU2kcldc9aQ+xT1x7B+HinhUR+WtxUZ9mr4xBLgUKRM=</td>\n",
       "      <td>0.019294</td>\n",
       "    </tr>\n",
       "    <tr>\n",
       "      <th>907455</th>\n",
       "      <td>NgEHZWUb/5fAyZ4oMGxdtPTrZFiARxCAKyOqtJ0s2aU=</td>\n",
       "      <td>0.010762</td>\n",
       "    </tr>\n",
       "    <tr>\n",
       "      <th>907456</th>\n",
       "      <td>dw5kCn4Sqj+P1c0qQaXcs9AAeZFbwxeUmpW+X0qlvFc=</td>\n",
       "      <td>0.018065</td>\n",
       "    </tr>\n",
       "    <tr>\n",
       "      <th>907457</th>\n",
       "      <td>aEeTCPSNKqaAgcHlZqntzuYf7lv4C3OxMvWqt/14jhs=</td>\n",
       "      <td>0.017361</td>\n",
       "    </tr>\n",
       "    <tr>\n",
       "      <th>907458</th>\n",
       "      <td>NcIK70lHsDjAsamedWqSwu1b6mZR8dwVIL4ki+TdKzw=</td>\n",
       "      <td>0.024958</td>\n",
       "    </tr>\n",
       "    <tr>\n",
       "      <th>907459</th>\n",
       "      <td>SZGhUzxFs6/jVf+aVAV6wkIXwC4VOJ945EhHLYjyXqY=</td>\n",
       "      <td>0.384918</td>\n",
       "    </tr>\n",
       "    <tr>\n",
       "      <th>907460</th>\n",
       "      <td>fgrG5+L9zmTL8wW75FbR3Cts5Z7GAUcfr5cbqrsztAw=</td>\n",
       "      <td>0.422116</td>\n",
       "    </tr>\n",
       "    <tr>\n",
       "      <th>907461</th>\n",
       "      <td>s2BQi80mz+SH4d+Ld0lCW28ZeyPGnnaBmaD9Mx3D4Ks=</td>\n",
       "      <td>0.012540</td>\n",
       "    </tr>\n",
       "    <tr>\n",
       "      <th>907462</th>\n",
       "      <td>r+Eb1hNptQDU/Wa0E+Myg/4+K7XqckAvlEU6xY2r9CQ=</td>\n",
       "      <td>0.017361</td>\n",
       "    </tr>\n",
       "    <tr>\n",
       "      <th>907463</th>\n",
       "      <td>kC0vNHziTsaosr42qwIilPjviq7ToGkmEARWNpvFRqs=</td>\n",
       "      <td>0.017361</td>\n",
       "    </tr>\n",
       "    <tr>\n",
       "      <th>907464</th>\n",
       "      <td>lmuB1hC6Trpb84bWVC3dvLBJkBtbo7N2OVf0Lwo0c9c=</td>\n",
       "      <td>0.017086</td>\n",
       "    </tr>\n",
       "    <tr>\n",
       "      <th>907465</th>\n",
       "      <td>puL2A+Pe6eqOM6D+RKnqmdiJPaWrlKYQcCrJXKCXIIM=</td>\n",
       "      <td>0.019294</td>\n",
       "    </tr>\n",
       "    <tr>\n",
       "      <th>907466</th>\n",
       "      <td>8nS1SbsI9+9vN07m8GyfmsWv/A9H8dUlbIbjbZ2a/Nk=</td>\n",
       "      <td>0.017361</td>\n",
       "    </tr>\n",
       "    <tr>\n",
       "      <th>907467</th>\n",
       "      <td>KsOpJUA4P2pEaSl0afZhyl1QBaLHXTw33IYuQsnKdxE=</td>\n",
       "      <td>0.017361</td>\n",
       "    </tr>\n",
       "    <tr>\n",
       "      <th>907468</th>\n",
       "      <td>NIcI2YUj9v2tC/NRtreLz1wxwLczQacJ2Ek9RJKgarI=</td>\n",
       "      <td>0.017361</td>\n",
       "    </tr>\n",
       "    <tr>\n",
       "      <th>907469</th>\n",
       "      <td>b8MlVUtzUhQrIqKcqVKPENOIUo/5EiZxfExBkkfoBxY=</td>\n",
       "      <td>0.017361</td>\n",
       "    </tr>\n",
       "    <tr>\n",
       "      <th>907470</th>\n",
       "      <td>YhPGjMES6gPOZMm33BmxwM4hg5I1gbpBM5Be16NXZoI=</td>\n",
       "      <td>0.017361</td>\n",
       "    </tr>\n",
       "  </tbody>\n",
       "</table>\n",
       "<p>907471 rows × 2 columns</p>\n",
       "</div>"
      ],
      "text/plain": [
       "                                                msno  is_churn\n",
       "0       4n+fXlyJvfQnTeKXTWT507Ll4JVYGrOC8LHCfwBmPE4=  0.017361\n",
       "1       aNmbC1GvFUxQyQUidCVmfbQ0YeCuwkPzEdQ0RwWyeZM=  0.017086\n",
       "2       rFC9eSG/tMuzpre6cwcMLZHEYM89xY02qcz7HL4//jc=  0.023613\n",
       "3       WZ59dLyrQcE7ft06MZ5dj40BnlYQY7PHgg/54+HaCSE=  0.019294\n",
       "4       aky/Iv8hMp1/V/yQHLtaVuEmmAxkB5GuasQZePJ7NU4=  0.018715\n",
       "5       nu1jZ/flvSaXRg0U9Es+xmo2KlAXq/q+mhcWFStwm9w=  0.384918\n",
       "6       biDTtgK83fEWXJDaxzD1eh22dion/h3odeIbS7qJMmY=  0.013034\n",
       "7       k/8uwi/iM9LZmRAIWXLqpZY6ENomXAscwsQsh6PxcTw=  0.019294\n",
       "8       18rQ/746SjA6nBx325UsyhfsDhu4tK01FXFxHWZjw20=  0.017086\n",
       "9       2V13OCoWx6vqKr/ZzNmKFrmnC2FtR4SWMz5C5Hi02PY=  0.014674\n",
       "10      1l/ZwduFxS/q/hZeyssAYH27espkp8Yw6uAnUxfEbTI=  0.017361\n",
       "11      azfnO16ZeQsbJF6LcqkQhbA3NWiqHYWqaq7AFjsJVaQ=  0.019294\n",
       "12      RPOzeEr8mSbhj6wrF29+7KciuiNrj7IvkzxJ9rgCTks=  0.018065\n",
       "13      NAzfjSM2EOyFhV4rIm/RO9pXCbyti6scBfcmV/t+CaU=  0.023613\n",
       "14      1DCd06ON0rWFHI1bNrY1l/hPW9d80fmmrmroHqpGvNA=  0.017361\n",
       "15      D9QAV8ZNF8qU96dTBLMzO0sguzlmAIBf4302l0W6jj0=  0.017361\n",
       "16      5HKzLDUVVbIxWMH9aH67ALAGVPvorE4NvmO5xqO7SMk=  0.013785\n",
       "17      XwnlNj6nq2MMHe0KoyRRM4ih+RAwj5idHvlS4pTMTbg=  0.017361\n",
       "18      lNmNPLZZiMwVbRFdBmDYmRdEgo8TWN2Y3m+z5XVl4aQ=  0.019294\n",
       "19      5NlNga4bsKiYyj3B3I/SihUQH4wb2suNWBcxQMd9oJ8=  0.017361\n",
       "20      eXWvD4/UBTi6mA9GMYTpY7/buu5xKCyXlu7hFM+ELHU=  0.017361\n",
       "21      Y1V2qDdKt+5CHqFSvpm82QkPJrwRxkbP5hs7DbtU+tA=  0.445673\n",
       "22      sLyKNXQo6PGK/CE0a4cUQ9+lVd/oCERRMuCSgZ6KN4Y=  0.017361\n",
       "23      2TaTUEET5XAOiHPC2qKnKUK2wSqbcbA9YwM4eHTeawE=  0.018065\n",
       "24      Rrh9afbenme6MuAYudJRn41u9IrLpSi9aQ8p3I34RT0=  0.017361\n",
       "25      5sjnJjeZd2roOarPgSYK6559VTIhEmeunzJAd2kcuhg=  0.023613\n",
       "26      FsR4+VSNjAortRRTmx2q9K2q9HtSdQ69PE1FNKKqpKk=  0.017361\n",
       "27      5LgzR73HtjaKDQzMcUrveEUcvWPCuwAZrizNdCAqRnU=  0.014674\n",
       "28      3rgFPp+e+xMWuKAw8wgVB4EUYotVuaWYvGuEDyNo9fc=  0.017361\n",
       "29      QOE4ibjDwKrJvCZze8fKh4yxk7sHEEbffUMTmkUSfhA=  0.017361\n",
       "...                                              ...       ...\n",
       "907441  gk8XM+TA0wIqideeOAfLpAGgmhYpRTJuD3lpx9lQlh4=  0.017361\n",
       "907442  3TRqAUOAuYhIQz/kCISBEhZZOnsrjVuf+WH3QLUT2aw=  0.017086\n",
       "907443  FbEuxI79/jc3bitQwvZ/y2+ewGd9LEiKQrlkQGLD6lk=  0.017361\n",
       "907444  +lqMzJchsQDoQvkRDnM5VKPAtEPbcRrpyiIewdWlwEo=  0.017361\n",
       "907445  3rlqpTjQ8e+q9axfQLKhRK0HmBoL2m+jvo0rm7+dbeU=  0.017361\n",
       "907446  mK64Lapcbh0+hz+u5Jy27iDEQqDsSUjXh5Xw+oFE5kc=  0.017086\n",
       "907447  oLe84AMU5+u8KFV+gpWAElh6P+RRjc5WfjgESTP93kk=  0.018065\n",
       "907448  eEa3cws9RxHVr42QBanlfUYWIQKimUDeHZshYOmPFg4=  0.017361\n",
       "907449  GLfSMzLvaotdTTyQ6VPNFCZvJMWBgn92ml+VzbF2caQ=  0.019294\n",
       "907450  UugV5VEIkH/7Xi49DYa8FSGJg7tzfVrbY4YRnyPjiFg=  0.017361\n",
       "907451  WqggMdsZdV3MpF7/bsgin1JjQ02d38Y+tGjGIKMPC9o=  0.017086\n",
       "907452  xlmdLtmZa7LlVlAs9PrmNbAF4rx4gThNgYCYCXlhVRw=  0.017361\n",
       "907453  wToeP3w2/VEGinU7ttBCrZYw/eur8lPat4fA7hN1M7g=  0.499967\n",
       "907454  KU2kcldc9aQ+xT1x7B+HinhUR+WtxUZ9mr4xBLgUKRM=  0.019294\n",
       "907455  NgEHZWUb/5fAyZ4oMGxdtPTrZFiARxCAKyOqtJ0s2aU=  0.010762\n",
       "907456  dw5kCn4Sqj+P1c0qQaXcs9AAeZFbwxeUmpW+X0qlvFc=  0.018065\n",
       "907457  aEeTCPSNKqaAgcHlZqntzuYf7lv4C3OxMvWqt/14jhs=  0.017361\n",
       "907458  NcIK70lHsDjAsamedWqSwu1b6mZR8dwVIL4ki+TdKzw=  0.024958\n",
       "907459  SZGhUzxFs6/jVf+aVAV6wkIXwC4VOJ945EhHLYjyXqY=  0.384918\n",
       "907460  fgrG5+L9zmTL8wW75FbR3Cts5Z7GAUcfr5cbqrsztAw=  0.422116\n",
       "907461  s2BQi80mz+SH4d+Ld0lCW28ZeyPGnnaBmaD9Mx3D4Ks=  0.012540\n",
       "907462  r+Eb1hNptQDU/Wa0E+Myg/4+K7XqckAvlEU6xY2r9CQ=  0.017361\n",
       "907463  kC0vNHziTsaosr42qwIilPjviq7ToGkmEARWNpvFRqs=  0.017361\n",
       "907464  lmuB1hC6Trpb84bWVC3dvLBJkBtbo7N2OVf0Lwo0c9c=  0.017086\n",
       "907465  puL2A+Pe6eqOM6D+RKnqmdiJPaWrlKYQcCrJXKCXIIM=  0.019294\n",
       "907466  8nS1SbsI9+9vN07m8GyfmsWv/A9H8dUlbIbjbZ2a/Nk=  0.017361\n",
       "907467  KsOpJUA4P2pEaSl0afZhyl1QBaLHXTw33IYuQsnKdxE=  0.017361\n",
       "907468  NIcI2YUj9v2tC/NRtreLz1wxwLczQacJ2Ek9RJKgarI=  0.017361\n",
       "907469  b8MlVUtzUhQrIqKcqVKPENOIUo/5EiZxfExBkkfoBxY=  0.017361\n",
       "907470  YhPGjMES6gPOZMm33BmxwM4hg5I1gbpBM5Be16NXZoI=  0.017361\n",
       "\n",
       "[907471 rows x 2 columns]"
      ]
     },
     "execution_count": 31,
     "metadata": {},
     "output_type": "execute_result"
    }
   ],
   "source": [
    "sample_submission"
   ]
  },
  {
   "cell_type": "code",
   "execution_count": 32,
   "metadata": {},
   "outputs": [],
   "source": [
    "sample_submission.to_csv('submission.csv', index=False)"
   ]
  }
 ],
 "metadata": {
  "kernelspec": {
   "display_name": "Python 3",
   "language": "python",
   "name": "python3"
  },
  "language_info": {
   "codemirror_mode": {
    "name": "ipython",
    "version": 3
   },
   "file_extension": ".py",
   "mimetype": "text/x-python",
   "name": "python",
   "nbconvert_exporter": "python",
   "pygments_lexer": "ipython3",
   "version": "3.6.4"
  }
 },
 "nbformat": 4,
 "nbformat_minor": 2
}
