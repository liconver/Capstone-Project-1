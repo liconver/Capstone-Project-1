{
 "cells": [
  {
   "cell_type": "code",
   "execution_count": 1,
   "metadata": {},
   "outputs": [
    {
     "name": "stderr",
     "output_type": "stream",
     "text": [
      "C:\\Anaconda\\lib\\site-packages\\statsmodels\\compat\\pandas.py:56: FutureWarning: The pandas.core.datetools module is deprecated and will be removed in a future version. Please use the pandas.tseries module instead.\n",
      "  from pandas.core import datetools\n"
     ]
    }
   ],
   "source": [
    "#libraries\n",
    "import numpy as np\n",
    "import pandas as pd\n",
    "import matplotlib.pyplot as plt\n",
    "import datetime\n",
    "from sklearn.linear_model import LogisticRegression\n",
    "from sklearn.model_selection import train_test_split, cross_val_score, GridSearchCV\n",
    "from sklearn.metrics import confusion_matrix, classification_report, roc_curve, roc_auc_score, log_loss\n",
    "from statsmodels.stats.outliers_influence import variance_inflation_factor\n",
    "from patsy import dmatrices\n",
    "import statsmodels.api as sm"
   ]
  },
  {
   "cell_type": "code",
   "execution_count": 2,
   "metadata": {},
   "outputs": [],
   "source": [
    "#read in members and train datafiles\n",
    "members = pd.read_csv(r'C:\\Users\\liconver\\Downloads\\members_v3.csv')\n",
    "train = pd.read_csv(r'C:\\Users\\liconver\\Downloads\\train.csv')\n",
    "#create dataframe df\n",
    "df = pd.merge(members,train,how='inner',on=['msno'])"
   ]
  },
  {
   "cell_type": "code",
   "execution_count": 3,
   "metadata": {},
   "outputs": [],
   "source": [
    "#read in first 50 million rows of user logs file\n",
    "user_logs= pd.read_csv(r'C:\\Users\\liconver\\Downloads\\user_logs.csv')\n",
    "user_logs['date'] = pd.to_datetime(user_logs['date'],format='%Y%m%d')\n",
    "#select only logs for users that are in df\n",
    "msnos = df['msno']\n",
    "relevant_user_logs = user_logs.loc[user_logs['msno'].isin(msnos)]\n",
    "user_logs = []"
   ]
  },
  {
   "cell_type": "code",
   "execution_count": 4,
   "metadata": {},
   "outputs": [],
   "source": [
    "#select only logs for the last two months before the churn window, which for the train set is February 2017\n",
    "LastTwoMonthslogs = relevant_user_logs.loc[(relevant_user_logs['date']<'2017-02-01') & (relevant_user_logs['date']>'2016-11-30')]\n",
    "del relevant_user_logs"
   ]
  },
  {
   "cell_type": "code",
   "execution_count": 5,
   "metadata": {},
   "outputs": [],
   "source": [
    "#aggregate the logs by mean so you can have one row of log info per user\n",
    "mean_user_logs = pd.DataFrame(index=[],columns=[])\n",
    "mean_user_logs['num_25'] = LastTwoMonthslogs.groupby('msno')['num_25'].mean()\n",
    "mean_user_logs['num_50'] = LastTwoMonthslogs.groupby('msno')['num_50'].mean()\n",
    "mean_user_logs['num_75'] = LastTwoMonthslogs.groupby('msno')['num_75'].mean()\n",
    "mean_user_logs['num_985'] = LastTwoMonthslogs.groupby('msno')['num_50'].mean()\n",
    "mean_user_logs['num_100'] = LastTwoMonthslogs.groupby('msno')['num_100'].mean()\n",
    "mean_user_logs['num_unq'] = LastTwoMonthslogs.groupby('msno')['num_unq'].mean()\n",
    "mean_user_logs['total_secs'] = LastTwoMonthslogs.groupby('msno')['total_secs'].mean()\n",
    "mean_user_logs['days_logged'] = LastTwoMonthslogs.groupby('msno')['date'].count()"
   ]
  },
  {
   "cell_type": "code",
   "execution_count": 6,
   "metadata": {},
   "outputs": [],
   "source": [
    "#merge the mean log data into the dataframe\n",
    "mean_user_logs = mean_user_logs.reset_index()\n",
    "df = pd.merge(df,mean_user_logs,how='inner',on='msno')"
   ]
  },
  {
   "cell_type": "code",
   "execution_count": 7,
   "metadata": {},
   "outputs": [],
   "source": [
    "#replace date of initial registration with a numeric feature for how many days users has been registered\n",
    "df['registration_init_time'] = pd.to_datetime(df['registration_init_time'],format='%Y%m%d')\n",
    "end_day = datetime.date(2017,3,1)\n",
    "df['days_since_registered'] = end_day - df['registration_init_time']\n",
    "df['days_since_registered'] = df['days_since_registered'].dt.days\n",
    "df = df.drop(['registration_init_time'],axis=1)"
   ]
  },
  {
   "cell_type": "code",
   "execution_count": 8,
   "metadata": {},
   "outputs": [],
   "source": [
    "#replace columns that have categorical data with dummy variables\n",
    "df = pd.get_dummies(df,columns=['city','registered_via','gender'])"
   ]
  },
  {
   "cell_type": "code",
   "execution_count": 9,
   "metadata": {},
   "outputs": [
    {
     "name": "stdout",
     "output_type": "stream",
     "text": [
      "51248\n",
      "(798141, 40)\n"
     ]
    }
   ],
   "source": [
    "#check how many churners are in the dataframe relative to the size of the dataframe\n",
    "print(df.is_churn.sum())\n",
    "print(df.shape)"
   ]
  },
  {
   "cell_type": "code",
   "execution_count": 10,
   "metadata": {},
   "outputs": [],
   "source": [
    "#subset the dataframe into churners and nonchurners and reconstruct with a higher ratio of churners\n",
    "churners= df.loc[df['is_churn']==1]\n",
    "nonchurners= df.loc[df['is_churn']==0]\n",
    "nonchurners= nonchurners.sample(n=107000)\n",
    "df = pd.concat([churners,nonchurners])"
   ]
  },
  {
   "cell_type": "code",
   "execution_count": 11,
   "metadata": {},
   "outputs": [],
   "source": [
    "#identify features and target variable for calculating VIF\n",
    "y = df['is_churn']\n",
    "X = df.drop(['is_churn','msno'],axis=1)"
   ]
  },
  {
   "cell_type": "code",
   "execution_count": 11,
   "metadata": {},
   "outputs": [
    {
     "name": "stderr",
     "output_type": "stream",
     "text": [
      "C:\\Users\\liamc\\Anaconda3\\lib\\site-packages\\statsmodels\\stats\\outliers_influence.py:167: RuntimeWarning: divide by zero encountered in double_scalars\n",
      "  vif = 1. / (1. - r_squared_i)\n"
     ]
    },
    {
     "data": {
      "text/html": [
       "<div>\n",
       "<style scoped>\n",
       "    .dataframe tbody tr th:only-of-type {\n",
       "        vertical-align: middle;\n",
       "    }\n",
       "\n",
       "    .dataframe tbody tr th {\n",
       "        vertical-align: top;\n",
       "    }\n",
       "\n",
       "    .dataframe thead th {\n",
       "        text-align: right;\n",
       "    }\n",
       "</style>\n",
       "<table border=\"1\" class=\"dataframe\">\n",
       "  <thead>\n",
       "    <tr style=\"text-align: right;\">\n",
       "      <th></th>\n",
       "      <th>VIF Factor</th>\n",
       "      <th>features</th>\n",
       "    </tr>\n",
       "  </thead>\n",
       "  <tbody>\n",
       "    <tr>\n",
       "      <th>0</th>\n",
       "      <td>1.934917</td>\n",
       "      <td>bd</td>\n",
       "    </tr>\n",
       "    <tr>\n",
       "      <th>1</th>\n",
       "      <td>1.868850</td>\n",
       "      <td>num_25</td>\n",
       "    </tr>\n",
       "    <tr>\n",
       "      <th>2</th>\n",
       "      <td>inf</td>\n",
       "      <td>num_50</td>\n",
       "    </tr>\n",
       "    <tr>\n",
       "      <th>3</th>\n",
       "      <td>2.323106</td>\n",
       "      <td>num_75</td>\n",
       "    </tr>\n",
       "    <tr>\n",
       "      <th>4</th>\n",
       "      <td>inf</td>\n",
       "      <td>num_985</td>\n",
       "    </tr>\n",
       "    <tr>\n",
       "      <th>5</th>\n",
       "      <td>32.715950</td>\n",
       "      <td>num_100</td>\n",
       "    </tr>\n",
       "    <tr>\n",
       "      <th>6</th>\n",
       "      <td>4.139891</td>\n",
       "      <td>num_unq</td>\n",
       "    </tr>\n",
       "    <tr>\n",
       "      <th>7</th>\n",
       "      <td>36.472611</td>\n",
       "      <td>total_secs</td>\n",
       "    </tr>\n",
       "    <tr>\n",
       "      <th>8</th>\n",
       "      <td>1.046762</td>\n",
       "      <td>days_logged</td>\n",
       "    </tr>\n",
       "    <tr>\n",
       "      <th>9</th>\n",
       "      <td>1.682419</td>\n",
       "      <td>days_since_registered</td>\n",
       "    </tr>\n",
       "    <tr>\n",
       "      <th>10</th>\n",
       "      <td>inf</td>\n",
       "      <td>city_1</td>\n",
       "    </tr>\n",
       "    <tr>\n",
       "      <th>11</th>\n",
       "      <td>inf</td>\n",
       "      <td>city_3</td>\n",
       "    </tr>\n",
       "    <tr>\n",
       "      <th>12</th>\n",
       "      <td>inf</td>\n",
       "      <td>city_4</td>\n",
       "    </tr>\n",
       "    <tr>\n",
       "      <th>13</th>\n",
       "      <td>inf</td>\n",
       "      <td>city_5</td>\n",
       "    </tr>\n",
       "    <tr>\n",
       "      <th>14</th>\n",
       "      <td>inf</td>\n",
       "      <td>city_6</td>\n",
       "    </tr>\n",
       "    <tr>\n",
       "      <th>15</th>\n",
       "      <td>inf</td>\n",
       "      <td>city_7</td>\n",
       "    </tr>\n",
       "    <tr>\n",
       "      <th>16</th>\n",
       "      <td>inf</td>\n",
       "      <td>city_8</td>\n",
       "    </tr>\n",
       "    <tr>\n",
       "      <th>17</th>\n",
       "      <td>inf</td>\n",
       "      <td>city_9</td>\n",
       "    </tr>\n",
       "    <tr>\n",
       "      <th>18</th>\n",
       "      <td>inf</td>\n",
       "      <td>city_10</td>\n",
       "    </tr>\n",
       "    <tr>\n",
       "      <th>19</th>\n",
       "      <td>inf</td>\n",
       "      <td>city_11</td>\n",
       "    </tr>\n",
       "    <tr>\n",
       "      <th>20</th>\n",
       "      <td>inf</td>\n",
       "      <td>city_12</td>\n",
       "    </tr>\n",
       "    <tr>\n",
       "      <th>21</th>\n",
       "      <td>inf</td>\n",
       "      <td>city_13</td>\n",
       "    </tr>\n",
       "    <tr>\n",
       "      <th>22</th>\n",
       "      <td>inf</td>\n",
       "      <td>city_14</td>\n",
       "    </tr>\n",
       "    <tr>\n",
       "      <th>23</th>\n",
       "      <td>inf</td>\n",
       "      <td>city_15</td>\n",
       "    </tr>\n",
       "    <tr>\n",
       "      <th>24</th>\n",
       "      <td>inf</td>\n",
       "      <td>city_16</td>\n",
       "    </tr>\n",
       "    <tr>\n",
       "      <th>25</th>\n",
       "      <td>inf</td>\n",
       "      <td>city_17</td>\n",
       "    </tr>\n",
       "    <tr>\n",
       "      <th>26</th>\n",
       "      <td>inf</td>\n",
       "      <td>city_18</td>\n",
       "    </tr>\n",
       "    <tr>\n",
       "      <th>27</th>\n",
       "      <td>inf</td>\n",
       "      <td>city_19</td>\n",
       "    </tr>\n",
       "    <tr>\n",
       "      <th>28</th>\n",
       "      <td>inf</td>\n",
       "      <td>city_20</td>\n",
       "    </tr>\n",
       "    <tr>\n",
       "      <th>29</th>\n",
       "      <td>inf</td>\n",
       "      <td>city_21</td>\n",
       "    </tr>\n",
       "    <tr>\n",
       "      <th>30</th>\n",
       "      <td>inf</td>\n",
       "      <td>city_22</td>\n",
       "    </tr>\n",
       "    <tr>\n",
       "      <th>31</th>\n",
       "      <td>inf</td>\n",
       "      <td>registered_via_3</td>\n",
       "    </tr>\n",
       "    <tr>\n",
       "      <th>32</th>\n",
       "      <td>inf</td>\n",
       "      <td>registered_via_4</td>\n",
       "    </tr>\n",
       "    <tr>\n",
       "      <th>33</th>\n",
       "      <td>inf</td>\n",
       "      <td>registered_via_7</td>\n",
       "    </tr>\n",
       "    <tr>\n",
       "      <th>34</th>\n",
       "      <td>inf</td>\n",
       "      <td>registered_via_9</td>\n",
       "    </tr>\n",
       "    <tr>\n",
       "      <th>35</th>\n",
       "      <td>inf</td>\n",
       "      <td>registered_via_13</td>\n",
       "    </tr>\n",
       "    <tr>\n",
       "      <th>36</th>\n",
       "      <td>3.604980</td>\n",
       "      <td>gender_female</td>\n",
       "    </tr>\n",
       "    <tr>\n",
       "      <th>37</th>\n",
       "      <td>3.801259</td>\n",
       "      <td>gender_male</td>\n",
       "    </tr>\n",
       "  </tbody>\n",
       "</table>\n",
       "</div>"
      ],
      "text/plain": [
       "    VIF Factor               features\n",
       "0     1.934917                     bd\n",
       "1     1.868850                 num_25\n",
       "2          inf                 num_50\n",
       "3     2.323106                 num_75\n",
       "4          inf                num_985\n",
       "5    32.715950                num_100\n",
       "6     4.139891                num_unq\n",
       "7    36.472611             total_secs\n",
       "8     1.046762            days_logged\n",
       "9     1.682419  days_since_registered\n",
       "10         inf                 city_1\n",
       "11         inf                 city_3\n",
       "12         inf                 city_4\n",
       "13         inf                 city_5\n",
       "14         inf                 city_6\n",
       "15         inf                 city_7\n",
       "16         inf                 city_8\n",
       "17         inf                 city_9\n",
       "18         inf                city_10\n",
       "19         inf                city_11\n",
       "20         inf                city_12\n",
       "21         inf                city_13\n",
       "22         inf                city_14\n",
       "23         inf                city_15\n",
       "24         inf                city_16\n",
       "25         inf                city_17\n",
       "26         inf                city_18\n",
       "27         inf                city_19\n",
       "28         inf                city_20\n",
       "29         inf                city_21\n",
       "30         inf                city_22\n",
       "31         inf       registered_via_3\n",
       "32         inf       registered_via_4\n",
       "33         inf       registered_via_7\n",
       "34         inf       registered_via_9\n",
       "35         inf      registered_via_13\n",
       "36    3.604980          gender_female\n",
       "37    3.801259            gender_male"
      ]
     },
     "execution_count": 11,
     "metadata": {},
     "output_type": "execute_result"
    }
   ],
   "source": [
    "#display vif of all features\n",
    "vif = pd.DataFrame()\n",
    "vif[\"VIF Factor\"] = [variance_inflation_factor(X.values, i) for i in range(X.shape[1])]\n",
    "vif[\"features\"] = X.columns\n",
    "vif"
   ]
  },
  {
   "cell_type": "code",
   "execution_count": 12,
   "metadata": {},
   "outputs": [],
   "source": [
    "#select features and target variable for model.  Can change to eliminate high VIF features\n",
    "y = df['is_churn']\n",
    "X = df.drop(['is_churn','msno'],axis=1)"
   ]
  },
  {
   "cell_type": "code",
   "execution_count": 13,
   "metadata": {},
   "outputs": [],
   "source": [
    "#split into train and test sets and initialize classifier\n",
    "X_train, X_test, y_train, y_test = train_test_split(X,y,test_size=.3,random_state=21)\n",
    "logreg = LogisticRegression()"
   ]
  },
  {
   "cell_type": "code",
   "execution_count": 14,
   "metadata": {},
   "outputs": [
    {
     "data": {
      "text/plain": [
       "LogisticRegression(C=1.0, class_weight=None, dual=False, fit_intercept=True,\n",
       "          intercept_scaling=1, max_iter=100, multi_class='ovr', n_jobs=1,\n",
       "          penalty='l2', random_state=None, solver='liblinear', tol=0.0001,\n",
       "          verbose=0, warm_start=False)"
      ]
     },
     "execution_count": 14,
     "metadata": {},
     "output_type": "execute_result"
    }
   ],
   "source": [
    "#train\n",
    "logreg.fit(X_train,y_train)"
   ]
  },
  {
   "cell_type": "code",
   "execution_count": 15,
   "metadata": {},
   "outputs": [],
   "source": [
    "#make predictions on test set\n",
    "y_pred = logreg.predict(X_test)"
   ]
  },
  {
   "cell_type": "code",
   "execution_count": 16,
   "metadata": {},
   "outputs": [
    {
     "name": "stdout",
     "output_type": "stream",
     "text": [
      "[[28142  3895]\n",
      " [ 9127  6311]]\n",
      "             precision    recall  f1-score   support\n",
      "\n",
      "          0       0.76      0.88      0.81     32037\n",
      "          1       0.62      0.41      0.49     15438\n",
      "\n",
      "avg / total       0.71      0.73      0.71     47475\n",
      "\n"
     ]
    }
   ],
   "source": [
    "#check confusion matrix and classification report\n",
    "print(confusion_matrix(y_test, y_pred))\n",
    "print(classification_report(y_test, y_pred))"
   ]
  },
  {
   "cell_type": "code",
   "execution_count": 17,
   "metadata": {},
   "outputs": [
    {
     "data": {
      "image/png": "[encoded data removed]",
      "text/plain": [
       "<matplotlib.figure.Figure at 0x2c2983f3da0>"
      ]
     },
     "metadata": {},
     "output_type": "display_data"
    },
    {
     "name": "stdout",
     "output_type": "stream",
     "text": [
      "AUC: 0.7413272412873535\n",
      "AUC scores computed using 5-fold cross-validation: [0.71848695 0.73876395 0.75123381 0.76437934 0.73612926]\n"
     ]
    }
   ],
   "source": [
    "#Check ROC curve, AUC score, and 5 fold cv AUC\n",
    "y_pred_prob = logreg.predict_proba(X_test)[:,1]\n",
    "fpr, tpr, thresholds = roc_curve(y_test, y_pred_prob)\n",
    "plt.plot([0, 1], [0, 1], 'k--')\n",
    "plt.plot(fpr, tpr)\n",
    "plt.xlabel('False Positive Rate')\n",
    "plt.ylabel('True Positive Rate')\n",
    "plt.title('ROC Curve')\n",
    "plt.show()\n",
    "print(\"AUC: {}\".format(roc_auc_score(y_test, y_pred_prob)))\n",
    "cv_auc = cross_val_score(logreg,X,y,cv=5,scoring='roc_auc')\n",
    "print(\"AUC scores computed using 5-fold cross-validation: {}\".format(cv_auc))"
   ]
  },
  {
   "cell_type": "code",
   "execution_count": 18,
   "metadata": {},
   "outputs": [
    {
     "data": {
      "text/plain": [
       "0.5490062477265323"
      ]
     },
     "execution_count": 18,
     "metadata": {},
     "output_type": "execute_result"
    }
   ],
   "source": [
    "#check log loss\n",
    "log_loss(y_test,y_pred_prob)"
   ]
  },
  {
   "cell_type": "code",
   "execution_count": 19,
   "metadata": {},
   "outputs": [
    {
     "data": {
      "text/plain": [
       "array([[-8.99947652e-03,  1.84103775e-03,  2.32805244e-03,\n",
       "         1.87106308e-03,  2.32805244e-03,  4.49160780e-04,\n",
       "        -9.01216760e-04, -7.67110940e-06, -1.46812551e-01,\n",
       "        -3.73385307e-04, -5.42924759e-01, -4.11212625e-03,\n",
       "         1.84767379e-03, -1.59909631e-03, -1.61660787e-02,\n",
       "        -4.31933247e-03,  4.70523316e-03, -8.44091138e-03,\n",
       "         4.90314419e-03, -1.30978247e-02,  1.89582933e-02,\n",
       "        -6.80546874e-02, -1.26298217e-02, -3.06300620e-02,\n",
       "        -7.98428291e-04, -9.52326292e-03, -6.81295009e-03,\n",
       "         9.46910250e-05,  1.51493793e-03,  5.22189170e-03,\n",
       "        -3.48725330e-02,  1.65067124e-01,  1.93517957e-01,\n",
       "        -1.22943798e+00,  1.75145614e-01, -2.10287266e-02,\n",
       "         5.26606001e-02,  6.42125977e-02]])"
      ]
     },
     "execution_count": 19,
     "metadata": {},
     "output_type": "execute_result"
    }
   ],
   "source": [
    "#model coefficients\n",
    "logreg.coef_"
   ]
  },
  {
   "cell_type": "code",
   "execution_count": null,
   "metadata": {},
   "outputs": [],
   "source": []
  }
 ],
 "metadata": {
  "kernelspec": {
   "display_name": "Python 3",
   "language": "python",
   "name": "python3"
  },
  "language_info": {
   "codemirror_mode": {
    "name": "ipython",
    "version": 3
   },
   "file_extension": ".py",
   "mimetype": "text/x-python",
   "name": "python",
   "nbconvert_exporter": "python",
   "pygments_lexer": "ipython3",
   "version": "3.6.4"
  }
 },
 "nbformat": 4,
 "nbformat_minor": 2
}
